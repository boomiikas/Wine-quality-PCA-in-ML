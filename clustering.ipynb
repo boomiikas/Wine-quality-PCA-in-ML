{
 "cells": [
  {
   "cell_type": "code",
   "execution_count": 1,
   "id": "88d1f8c9",
   "metadata": {},
   "outputs": [
    {
     "name": "stderr",
     "output_type": "stream",
     "text": [
      "c:\\Users\\boomi\\anaconda3\\envs\\pyai\\Lib\\site-packages\\sklearn\\cluster\\_kmeans.py:1419: UserWarning: KMeans is known to have a memory leak on Windows with MKL, when there are less chunks than available threads. You can avoid it by setting the environment variable OMP_NUM_THREADS=6.\n",
      "  warnings.warn(\n"
     ]
    },
    {
     "name": "stdout",
     "output_type": "stream",
     "text": [
      "Silhouette Scores: {'KMeans': 0.17574906453166592, 'Agglomerative': 0.15888351401766018, 'DBSCAN': 0.3162745246991103}\n",
      "Best Model: DBSCAN\n",
      "✅ Saved best model & scaler\n"
     ]
    }
   ],
   "source": [
    "import pandas as pd\n",
    "import numpy as np\n",
    "from sklearn.preprocessing import RobustScaler\n",
    "from sklearn.cluster import KMeans, DBSCAN, AgglomerativeClustering\n",
    "from sklearn.metrics import silhouette_score\n",
    "import joblib\n",
    "\n",
    "# --- Load and preprocess data ---\n",
    "df = pd.read_csv(\"cleaned_dataset.csv\")\n",
    "X = df.drop(\"quality\", axis=1)\n",
    "y = df[\"quality\"]\n",
    "\n",
    "scaler = RobustScaler()\n",
    "X_scaled = scaler.fit_transform(X)\n",
    "\n",
    "# --- Clustering Models ---\n",
    "results = {}\n",
    "\n",
    "# KMeans with k=6\n",
    "kmeans = KMeans(n_clusters=6, random_state=42)\n",
    "kmeans_labels = kmeans.fit_predict(X_scaled)\n",
    "results[\"KMeans\"] = silhouette_score(X_scaled, kmeans_labels)\n",
    "\n",
    "# Agglomerative with k=6\n",
    "agglo = AgglomerativeClustering(n_clusters=6)\n",
    "agglo_labels = agglo.fit_predict(X_scaled)\n",
    "results[\"Agglomerative\"] = silhouette_score(X_scaled, agglo_labels)\n",
    "\n",
    "# DBSCAN (needs tuning)\n",
    "dbscan = DBSCAN(eps=2, min_samples=5)\n",
    "dbscan_labels = dbscan.fit_predict(X_scaled)\n",
    "if len(set(dbscan_labels)) > 1:  # valid clustering\n",
    "    results[\"DBSCAN\"] = silhouette_score(X_scaled, dbscan_labels)\n",
    "else:\n",
    "    results[\"DBSCAN\"] = -1  # invalid\n",
    "\n",
    "# --- Select best model ---\n",
    "best_model_name = max(results, key=results.get)\n",
    "print(\"Silhouette Scores:\", results)\n",
    "print(\"Best Model:\", best_model_name)\n",
    "\n",
    "# Save best model + scaler\n",
    "if best_model_name == \"KMeans\":\n",
    "    best_model = kmeans\n",
    "elif best_model_name == \"Agglomerative\":\n",
    "    best_model = agglo\n",
    "else:\n",
    "    best_model = dbscan\n",
    "\n",
    "joblib.dump(best_model, \"best_cluster_model.pkl\")\n",
    "joblib.dump(scaler, \"scaler.pkl\")\n",
    "print(\"✅ Saved best model & scaler\")\n"
   ]
  }
 ],
 "metadata": {
  "kernelspec": {
   "display_name": "pyai",
   "language": "python",
   "name": "python3"
  },
  "language_info": {
   "codemirror_mode": {
    "name": "ipython",
    "version": 3
   },
   "file_extension": ".py",
   "mimetype": "text/x-python",
   "name": "python",
   "nbconvert_exporter": "python",
   "pygments_lexer": "ipython3",
   "version": "3.12.11"
  }
 },
 "nbformat": 4,
 "nbformat_minor": 5
}
