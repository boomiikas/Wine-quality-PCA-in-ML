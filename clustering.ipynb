{
 "cells": [
  {
   "cell_type": "code",
   "execution_count": 2,
   "id": "88d1f8c9",
   "metadata": {},
   "outputs": [
    {
     "name": "stdout",
     "output_type": "stream",
     "text": [
      "DBSCAN Silhouette Score: 0.3162745246991103\n",
      "Cluster → Quality Mapping: {0: '🍷 Good Quality', 1: '🍷 Good Quality', 2: '🍷 Good Quality', 3: '🍷 Good Quality'}\n",
      "✅ Models & mapping saved successfully!\n"
     ]
    }
   ],
   "source": [
    "import pandas as pd\n",
    "import numpy as np\n",
    "from sklearn.preprocessing import RobustScaler\n",
    "from sklearn.cluster import DBSCAN\n",
    "from sklearn.metrics import silhouette_score\n",
    "import joblib\n",
    "\n",
    "# --- Load and preprocess data ---\n",
    "df = pd.read_csv(\"cleaned_dataset.csv\")\n",
    "X = df.drop(\"quality\", axis=1)\n",
    "y = df[\"quality\"]\n",
    "\n",
    "scaler = RobustScaler()\n",
    "X_scaled = scaler.fit_transform(X)\n",
    "\n",
    "# --- Fit DBSCAN (best choice) ---\n",
    "dbscan = DBSCAN(eps=2, min_samples=5)\n",
    "labels = dbscan.fit_predict(X_scaled)\n",
    "\n",
    "# --- Silhouette Score ---\n",
    "if len(set(labels)) > 1:\n",
    "    sil = silhouette_score(X_scaled, labels)\n",
    "    print(\"DBSCAN Silhouette Score:\", sil)\n",
    "\n",
    "# --- Build cluster → quality mapping ---\n",
    "cluster_quality_map = {}\n",
    "for cluster in np.unique(labels):\n",
    "    if cluster == -1:  # Noise\n",
    "        continue\n",
    "    cluster_indices = np.where(labels == cluster)[0]\n",
    "    cluster_qualities = y.iloc[cluster_indices]\n",
    "    avg_quality = cluster_qualities.mean()\n",
    "    if avg_quality >= 5:\n",
    "        cluster_quality_map[cluster] = \"🍷 Good Quality\"\n",
    "    elif avg_quality >= 3.5:\n",
    "        cluster_quality_map[cluster] = \"👌 Medium Quality\"\n",
    "    else:\n",
    "        cluster_quality_map[cluster] = \"⚠️ Low Quality\"\n",
    "\n",
    "print(\"Cluster → Quality Mapping:\", cluster_quality_map)\n",
    "\n",
    "# --- Save everything ---\n",
    "joblib.dump(dbscan, \"best_cluster_model.pkl\")\n",
    "joblib.dump(scaler, \"scaler.pkl\")\n",
    "joblib.dump(labels, \"cluster_labels.pkl\")\n",
    "joblib.dump(cluster_quality_map, \"cluster_quality_map.pkl\")\n",
    "np.save(\"X_scaled.npy\", X_scaled)\n",
    "\n",
    "print(\"✅ Models & mapping saved successfully!\")\n"
   ]
  }
 ],
 "metadata": {
  "kernelspec": {
   "display_name": "pyai",
   "language": "python",
   "name": "python3"
  },
  "language_info": {
   "codemirror_mode": {
    "name": "ipython",
    "version": 3
   },
   "file_extension": ".py",
   "mimetype": "text/x-python",
   "name": "python",
   "nbconvert_exporter": "python",
   "pygments_lexer": "ipython3",
   "version": "3.12.11"
  }
 },
 "nbformat": 4,
 "nbformat_minor": 5
}
